{
 "cells": [
  {
   "cell_type": "markdown",
   "metadata": {},
   "source": [
    "## Tuple index is a specialized way to access certain number of disjoint entries in the 2D array"
   ]
  },
  {
   "cell_type": "markdown",
   "metadata": {},
   "source": [
    "We know there are several ways to index a ndarray:\n",
    "1. basic index. (integer or slicing object)\n",
    "2. advanced index. (pass an array, either list of ndarray, not tuple)\n",
    "3. field index. (for structured and record array)\n",
    "4. boolean accessing\n",
    "\n",
    "Now we introduce an convenient way to batch assign/update certain entries in a 2D array"
   ]
  },
  {
   "cell_type": "code",
   "execution_count": 1,
   "metadata": {},
   "outputs": [],
   "source": [
    "import numpy as np"
   ]
  },
  {
   "cell_type": "code",
   "execution_count": 2,
   "metadata": {},
   "outputs": [],
   "source": [
    "test = np.random.randn(4,5)"
   ]
  },
  {
   "cell_type": "code",
   "execution_count": 3,
   "metadata": {},
   "outputs": [
    {
     "data": {
      "text/plain": [
       "array([[ 0.27857494, -1.00332675, -1.2273951 , -0.27148046, -0.57063863],\n",
       "       [ 0.70390151, -0.02991058,  0.99940696,  0.59763233, -0.01773857],\n",
       "       [-0.47215608, -0.07363405, -0.10947593, -0.71048801,  1.21208119],\n",
       "       [ 0.88613458,  0.60891323, -0.61609823,  0.5813559 ,  1.47086536]])"
      ]
     },
     "execution_count": 3,
     "metadata": {},
     "output_type": "execute_result"
    }
   ],
   "source": [
    "test"
   ]
  },
  {
   "cell_type": "code",
   "execution_count": 4,
   "metadata": {},
   "outputs": [],
   "source": [
    "test[(1,2),(2,3)] = (55,55)"
   ]
  },
  {
   "cell_type": "code",
   "execution_count": 5,
   "metadata": {},
   "outputs": [
    {
     "data": {
      "text/plain": [
       "array([[ 2.78574936e-01, -1.00332675e+00, -1.22739510e+00,\n",
       "        -2.71480460e-01, -5.70638628e-01],\n",
       "       [ 7.03901508e-01, -2.99105795e-02,  5.50000000e+01,\n",
       "         5.97632331e-01, -1.77385688e-02],\n",
       "       [-4.72156078e-01, -7.36340527e-02, -1.09475933e-01,\n",
       "         5.50000000e+01,  1.21208119e+00],\n",
       "       [ 8.86134583e-01,  6.08913230e-01, -6.16098230e-01,\n",
       "         5.81355901e-01,  1.47086536e+00]])"
      ]
     },
     "execution_count": 5,
     "metadata": {},
     "output_type": "execute_result"
    }
   ],
   "source": [
    "test"
   ]
  },
  {
   "cell_type": "markdown",
   "metadata": {},
   "source": [
    "We change the (1,2), which is second row, third column item,\n",
    "and (2,3), which is third row, fourth column item to 55"
   ]
  },
  {
   "cell_type": "markdown",
   "metadata": {},
   "source": [
    "This is called tuple index!"
   ]
  },
  {
   "cell_type": "code",
   "execution_count": null,
   "metadata": {},
   "outputs": [],
   "source": []
  }
 ],
 "metadata": {
  "kernelspec": {
   "display_name": "Python 3",
   "language": "python",
   "name": "python3"
  },
  "language_info": {
   "codemirror_mode": {
    "name": "ipython",
    "version": 3
   },
   "file_extension": ".py",
   "mimetype": "text/x-python",
   "name": "python",
   "nbconvert_exporter": "python",
   "pygments_lexer": "ipython3",
   "version": "3.6.12"
  }
 },
 "nbformat": 4,
 "nbformat_minor": 4
}
